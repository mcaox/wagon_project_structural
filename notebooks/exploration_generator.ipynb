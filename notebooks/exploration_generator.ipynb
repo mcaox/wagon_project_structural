{
 "cells": [
  {
   "cell_type": "code",
   "execution_count": 6,
   "id": "019956c7",
   "metadata": {},
   "outputs": [],
   "source": [
    "from scipy.spatial import ConvexHull\n",
    "\n",
    "import matplotlib.pyplot as plt\n",
    "import numpy as np\n",
    "from shapely.geometry import Point,LineString\n",
    "from shapely.geometry.polygon import Polygon\n",
    "import operator"
   ]
  },
  {
   "cell_type": "code",
   "execution_count": 116,
   "id": "c18ee0db",
   "metadata": {},
   "outputs": [],
   "source": [
    "class Geometrie:\n",
    "    def __init__(self,polygon):\n",
    "        self.main_polygon = polygon\n",
    "        self._internal_polygons = {}\n",
    "        self._internal_points = {}        \n",
    "        bounds = np.array(polygon.bounds).reshape(2,2).transpose()\n",
    "        self.dims = bounds[:,1]-bounds[:,0] # row 0 : x // row 1 : y\n",
    "        self.min_dim = self.dims.min()\n",
    "        self.max_dim = self.dims.max()\n",
    "        \n",
    "            \n",
    "    \n",
    "    def internal_points(self,names=None):\n",
    "        for name,polys in self._internal_points.items():\n",
    "            if names is None or name in names:\n",
    "                for p in polys:\n",
    "                    yield p  \n",
    "                \n",
    "    def internal_polygons(self,names=None):\n",
    "        for name,polys in self._internal_polygons.items():\n",
    "            if names is None or name in names:\n",
    "                for p in polys:\n",
    "                    yield p     \n",
    "    \n",
    "    def internal_point_names(self):\n",
    "        return list(self._internal_points.keys())     \n",
    "    \n",
    "    def internal_polygon_names(self):\n",
    "        return list(self._internal_polygons.keys())\n",
    "        \n",
    "        \n",
    "    def add_tremie(self,ratio_z_x=1,ratio=0.1,max_iter=1000,ratio_distance_min=1,name=\"tremie\"):\n",
    "        rng = np.random.default_rng()\n",
    "        if name not in self._internal_polygons:\n",
    "            self._internal_polygons[name] = []\n",
    "        dim = self.min_dim*ratio\n",
    "        skip = True\n",
    "        iter_ = 0\n",
    "        while skip and iter_<=max_iter:\n",
    "            skip = False\n",
    "            iter_ += 1\n",
    "            trans = rng.random((2,))\n",
    "            tremie = random_polygon2(ratio_z_x=ratio_z_x,scale=ratio,trans=trans)\n",
    "            if tremie.within(self.main_polygon):\n",
    "                if tremie.distance(self.main_polygon.exterior)<=ratio_distance_min*dim:\n",
    "                    skip = True\n",
    "                if not skip:\n",
    "                    for tr in self.internal_polygons():\n",
    "                        if tremie.intersects(tr):\n",
    "                            skip = True\n",
    "                            break\n",
    "                        if tremie.distance(tr.exterior)<=ratio_distance_min*dim:\n",
    "                            skip = True\n",
    "                            break\n",
    "            else:\n",
    "                skip = True\n",
    "        if not skip:\n",
    "            self._internal_polygons[name].append(tremie)\n",
    "            return True\n",
    "        return False\n",
    "    \n",
    "    def add_interior_point(self,center_area=None,ratio_area=1,ratio_distance_min=0.001,max_iter=1000,name=\"point\"):\n",
    "        rng = np.random.default_rng()\n",
    "        if name not in self._internal_points:\n",
    "            self._internal_points[name] = []\n",
    "        dim = self.max_dim*ratio_area\n",
    "        skip = True\n",
    "        iter_ = 0\n",
    "        while skip and iter_<=max_iter:\n",
    "            skip = False\n",
    "            iter_ += 1\n",
    "            point = rng.random((2,))*dim        \n",
    "            if center_area:\n",
    "                point = point + np.array(center_area)\n",
    "            point_ = Point(point)\n",
    "            if point_.within(self.main_polygon):\n",
    "                if point_.distance(self.main_polygon.exterior)<=ratio_distance_min*dim:\n",
    "                    skip = True\n",
    "                if not skip:\n",
    "                    for tr in self.internal_polygons():\n",
    "                        if point_.within(tr):\n",
    "                            skip = True\n",
    "                            break\n",
    "                        if point_.distance(tr.exterior)<=ratio_distance_min*dim:\n",
    "                            skip = True\n",
    "                            break\n",
    "            else:\n",
    "                skip = True\n",
    "            if not skip:\n",
    "                self._internal_points[name].append(point_)\n",
    "                return True\n",
    "        return False\n",
    "    \n",
    "                \n",
    "            \n",
    "        \n",
    "        \n",
    "    def plot(self,ax=None):\n",
    "        ax = plot_polygon(self.main_polygon,ax=ax)\n",
    "        for name,polys in self._internal_polygons.items():\n",
    "            for p in polys:\n",
    "                ax = plot_polygon(p)\n",
    "                \n",
    "        for name,pts in self._internal_points.items():\n",
    "            coords = []\n",
    "            for pt in pts:\n",
    "                coords.append(pt.coords[0])\n",
    "            coords = np.array(coords)\n",
    "            print(coords.shape)\n",
    "            ax.scatter(coords[:,0],coords[:,1],label=name,marker=\"x\")\n",
    "        return ax\n",
    "        \n",
    "        \n",
    "    \n",
    "        \n",
    "        \n"
   ]
  },
  {
   "cell_type": "code",
   "execution_count": 117,
   "id": "4d8dd068",
   "metadata": {},
   "outputs": [
    {
     "data": {
      "text/plain": [
       "(0.0, 1.0)"
      ]
     },
     "execution_count": 117,
     "metadata": {},
     "output_type": "execute_result"
    }
   ],
   "source": [
    "(Point(0,1).coords[0])"
   ]
  },
  {
   "cell_type": "code",
   "execution_count": 118,
   "id": "37323c62",
   "metadata": {},
   "outputs": [
    {
     "data": {
      "image/svg+xml": [
       "<svg xmlns=\"http://www.w3.org/2000/svg\" xmlns:xlink=\"http://www.w3.org/1999/xlink\" width=\"100.0\" height=\"100.0\" viewBox=\"0.024167263728928343 0.0022853878116628826 0.9654620288889522 0.9947307676282348\" preserveAspectRatio=\"xMinYMin meet\"><g transform=\"matrix(1,0,0,-1,0,0.9993015432515605)\"><path fill-rule=\"evenodd\" fill=\"#66cc99\" stroke=\"#555555\" stroke-width=\"0.019894615352564694\" opacity=\"0.6\" d=\"M 0.06100914401145555,0.9601742751573704 L 0.06425220117781603,0.07165529486756254 L 0.9527874123353532,0.03912726809419009 L 0.9225798574916473,0.9017607396453617 L 0.06100914401145555,0.9601742751573704 z\" /></g></svg>"
      ],
      "text/plain": [
       "<shapely.geometry.polygon.Polygon at 0x7fb1ebc5cd30>"
      ]
     },
     "execution_count": 118,
     "metadata": {},
     "output_type": "execute_result"
    }
   ],
   "source": [
    "geom = Geometrie(random_polygon2())\n",
    "geom.main_polygon"
   ]
  },
  {
   "cell_type": "code",
   "execution_count": 119,
   "id": "1fb568b8",
   "metadata": {},
   "outputs": [
    {
     "data": {
      "text/plain": [
       "<AxesSubplot:>"
      ]
     },
     "execution_count": 119,
     "metadata": {},
     "output_type": "execute_result"
    },
    {
     "data": {
      "image/png": "[encoded data removed]",
      "text/plain": [
       "<Figure size 432x288 with 1 Axes>"
      ]
     },
     "metadata": {
      "needs_background": "light"
     },
     "output_type": "display_data"
    }
   ],
   "source": [
    "geom.plot()"
   ]
  },
  {
   "cell_type": "code",
   "execution_count": 120,
   "id": "2bc92931",
   "metadata": {},
   "outputs": [
    {
     "data": {
      "text/plain": [
       "True"
      ]
     },
     "execution_count": 120,
     "metadata": {},
     "output_type": "execute_result"
    }
   ],
   "source": [
    "geom.add_tremie()\n",
    "geom.add_tremie()\n",
    "geom.add_tremie(ratio=0.05)"
   ]
  },
  {
   "cell_type": "code",
   "execution_count": 121,
   "id": "e6968f05",
   "metadata": {},
   "outputs": [
    {
     "data": {
      "text/plain": [
       "<AxesSubplot:>"
      ]
     },
     "execution_count": 121,
     "metadata": {},
     "output_type": "execute_result"
    },
    {
     "data": {
      "image/png": "[encoded data removed]",
      "text/plain": [
       "<Figure size 432x288 with 1 Axes>"
      ]
     },
     "metadata": {
      "needs_background": "light"
     },
     "output_type": "display_data"
    }
   ],
   "source": [
    "geom.plot()"
   ]
  },
  {
   "cell_type": "code",
   "execution_count": 122,
   "id": "bf0b8ad3",
   "metadata": {},
   "outputs": [
    {
     "data": {
      "text/plain": [
       "True"
      ]
     },
     "execution_count": 122,
     "metadata": {},
     "output_type": "execute_result"
    }
   ],
   "source": [
    "geom.add_interior_point()\n",
    "geom.add_interior_point()\n",
    "geom.add_interior_point()"
   ]
  },
  {
   "cell_type": "code",
   "execution_count": 126,
   "id": "0565fd73",
   "metadata": {},
   "outputs": [
    {
     "name": "stdout",
     "output_type": "stream",
     "text": [
      "(3, 2)\n"
     ]
    },
    {
     "data": {
      "text/plain": [
       "<matplotlib.legend.Legend at 0x7fb1e9f9f6d0>"
      ]
     },
     "execution_count": 126,
     "metadata": {},
     "output_type": "execute_result"
    },
    {
     "data": {
      "image/png": "[encoded data removed]",
      "text/plain": [
       "<Figure size 432x288 with 1 Axes>"
      ]
     },
     "metadata": {
      "needs_background": "light"
     },
     "output_type": "display_data"
    }
   ],
   "source": [
    "ax = geom.plot()\n",
    "ax.legend()"
   ]
  },
  {
   "cell_type": "code",
   "execution_count": 124,
   "id": "31b8eb58",
   "metadata": {},
   "outputs": [],
   "source": [
    "def plot_hull(hull,ax=None):\n",
    "    n = hull.vertices.shape[0]\n",
    "    points = hull.points\n",
    "    if ax is None:\n",
    "        ax = plt.gca()\n",
    "    ax.scatter(hull.points[:,0],hull.points[:,1])\n",
    "    ax.plot(points[hull.vertices,0], points[hull.vertices,1], 'r--', lw=2)\n",
    "    ax.plot(points[hull.vertices[::n-1],0], points[hull.vertices[::n-1],1], 'r--', lw=2)\n",
    "    ax.plot(points[hull.vertices[0],0], points[hull.vertices[0],1], 'ro')\n",
    "    return ax\n",
    "    \n",
    "def random_polygon(n_vertices):\n",
    "    n = 0\n",
    "    rng = np.random.default_rng()\n",
    "    while n!=n_vertices:\n",
    "        points = rng.random((n_vertices,2))   # 30 random points in 2-D\n",
    "        hull = ConvexHull(points)\n",
    "        n = hull.vertices.shape[0]\n",
    "    return hull\n",
    "\n",
    "def random_polygon2(*ranges):\n",
    "    n_vertices = len(ranges)\n",
    "    points = []\n",
    "    rng = np.random.default_rng() \n",
    "    for range_ in ranges:\n",
    "        point = rng.random((2,))\n",
    "        for coord in range(2):\n",
    "            point[coord] = range_[0,coord] + (range_[1,coord]-range_[0,coord])*point[coord]\n",
    "        points.append(point)\n",
    "    try:\n",
    "        hull = ConvexHull(points)\n",
    "    finally:\n",
    "        pass\n",
    "    return hull.points[hull.vertices,:]\n",
    "\n",
    "\n",
    "\n",
    "def random_polygon2(ratio_z_x=1,percent_x=0.1,percent_z=0.1,scale=1,trans=[0,0]):\n",
    "    ranges = [\n",
    "            np.array([[0,0],\n",
    "              [percent_x,percent_z*ratio_z_x]]),\n",
    "    np.array([[1-percent_x,0],\n",
    "              [1.0,percent_z*ratio_z_x]]),\n",
    "    np.array([[1-percent_x,ratio_z_x-percent_z*ratio_z_x],\n",
    "              [1.0,ratio_z_x]]),\n",
    "    np.array([[0,ratio_z_x-percent_z*ratio_z_x],\n",
    "              [percent_x,ratio_z_x]])\n",
    "    ]\n",
    "    \n",
    "    n_vertices = len(ranges)\n",
    "    points = []\n",
    "    rng = np.random.default_rng() \n",
    "    for range_ in ranges:\n",
    "        point = rng.random((2,))\n",
    "        for coord in range(2):\n",
    "            point[coord] = trans[coord] + (range_[0,coord] + (range_[1,coord]-range_[0,coord])*point[coord])*scale\n",
    "        points.append(point)\n",
    "    try:\n",
    "        hull = ConvexHull(points)\n",
    "    finally:\n",
    "        pass\n",
    "    return Polygon(hull.points[hull.vertices])\n",
    "\n",
    "def plot_polygon(polygon,ax=None):\n",
    "    points = np.array(list(polygon.exterior.coords))\n",
    "    if ax is None:\n",
    "        ax = plt.gca()\n",
    "    ax.scatter(points[:,0],points[:,1])\n",
    "    ax.plot(points[:,0], points[:,1], 'r--', lw=2)\n",
    "    return ax\n",
    "    "
   ]
  },
  {
   "cell_type": "code",
   "execution_count": 66,
   "id": "d37a8b55",
   "metadata": {},
   "outputs": [
    {
     "data": {
      "image/png": "[encoded data removed]",
      "text/plain": [
       "<Figure size 432x288 with 1 Axes>"
      ]
     },
     "metadata": {
      "needs_background": "light"
     },
     "output_type": "display_data"
    }
   ],
   "source": [
    "polygon = random_polygon2(0.1,scale=0.2,trans=[1,1])\n",
    "ax = plot_polygon(polygon)\n",
    "# ax.set_xlim(0,1)\n",
    "# ax.set_ylim(0,1)"
   ]
  },
  {
   "cell_type": "code",
   "execution_count": 229,
   "id": "d79aad67",
   "metadata": {},
   "outputs": [
    {
     "data": {
      "text/plain": [
       "<AxesSubplot:>"
      ]
     },
     "execution_count": 229,
     "metadata": {},
     "output_type": "execute_result"
    },
    {
     "data": {
      "image/png": "[encoded data removed]",
      "text/plain": [
       "<Figure size 432x288 with 1 Axes>"
      ]
     },
     "metadata": {
      "needs_background": "light"
     },
     "output_type": "display_data"
    }
   ],
   "source": [
    "# hull = random_polygon(4)\n",
    "polygon = random_polygon2()\n",
    "# plot_hull(hull);\n",
    "plot_polygon(polygon)"
   ]
  },
  {
   "cell_type": "code",
   "execution_count": 183,
   "id": "3c91ee54",
   "metadata": {},
   "outputs": [],
   "source": [
    "from shapely.geometry import Point,LineString\n",
    "from shapely.geometry.polygon import Polygon\n",
    "def inside_points(hull,n_points,not_allowed_poly=[]):\n",
    "    results = []\n",
    "    rng = np.random.default_rng()\n",
    "    polygon = Polygon(hull.points[hull.vertices])\n",
    "    lines = list(map(LineString,hull.points[hull.simplices]))\n",
    "    polys_to_test = []\n",
    "    for h in not_allowed_poly:\n",
    "        polys_to_test.append(Polygon(h.points[h.vertices]))\n",
    "        \n",
    "    while len(results)<n_points:\n",
    "        np_point = rng.random((2,))\n",
    "        point = Point(np_point)\n",
    "        if polygon.contains(point) and not any(map(point.within,lines)):\n",
    "            skip = False\n",
    "            for poly_to_test in polys_to_test:\n",
    "                if poly_to_test.contains(point) or point.touches(poly_to_test):\n",
    "                    skip = True\n",
    "                    break\n",
    "            if not skip:\n",
    "                results.append(np_point)\n",
    "    return np.vstack(results)\n",
    "            "
   ]
  },
  {
   "cell_type": "code",
   "execution_count": 180,
   "id": "84d3900e",
   "metadata": {},
   "outputs": [],
   "source": [
    "import itertools,operator\n",
    "def inside_polygons(hull,n_polygons,n_vertices=4):\n",
    "    results = []\n",
    "    rng = np.random.default_rng()\n",
    "    polygon = Polygon(hull.points[hull.vertices])\n",
    "    lines = list(map(LineString,hull.points[hull.simplices]))\n",
    "    while len(results)<n_polygons:\n",
    "        hull_tmp = random_polygon(n_vertices)\n",
    "        polygon_tmp = Polygon(hull_tmp.points[hull_tmp.vertices])\n",
    "        points_tmp = list(map(Point,hull_tmp.points[hull_tmp.vertices]))\n",
    "        if not polygon_tmp.within(polygon):\n",
    "            continue # polygon tmp en dehors du polygone\n",
    "        skip = False\n",
    "        for l,p in itertools.product(lines,points_tmp):\n",
    "            if l.contains(p):\n",
    "                skip = True\n",
    "                break # un des noeuds de polygon tmp sur le d'un autre \n",
    "        for (hull_to_test,poly_to_test),p in itertools.product(results,points_tmp):\n",
    "            if poly_to_test.intersects(polygon_tmp):\n",
    "                skip = True\n",
    "                break   # un des noeuds de polygon tmp dans un poly déjà là\n",
    "        if not skip:\n",
    "            results.append((hull_tmp,polygon_tmp))\n",
    "    return list(map(operator.itemgetter(0),results))\n",
    "\n",
    "\n",
    "def inside_polygons2(hull,n_polygons,n_vertices=4):\n",
    "    results = []\n",
    "    rng = np.random.default_rng()\n",
    "    polygon = Polygon(hull.points[hull.vertices])\n",
    "    lines = list(map(LineString,hull.points[hull.simplices]))\n",
    "    while len(results)<n_polygons:\n",
    "        hull_tmp = random_polygon(n_vertices)\n",
    "        polygon_tmp = Polygon(hull_tmp.points[hull_tmp.vertices])\n",
    "        points_tmp = list(map(Point,hull_tmp.points[hull_tmp.vertices]))\n",
    "        if not polygon_tmp.within(polygon):\n",
    "            continue # polygon tmp en dehors du polygone\n",
    "        skip = False\n",
    "        for l,p in itertools.product(lines,points_tmp):\n",
    "            if l.contains(p):\n",
    "                skip = True\n",
    "                break # un des noeuds de polygon tmp sur le d'un autre \n",
    "        for (hull_to_test,poly_to_test),p in itertools.product(results,points_tmp):\n",
    "            if poly_to_test.intersects(polygon_tmp):\n",
    "                skip = True\n",
    "                break   # un des noeuds de polygon tmp dans un poly déjà là\n",
    "        if not skip:\n",
    "            results.append((hull_tmp,polygon_tmp))\n",
    "    return list(map(operator.itemgetter(0),results))\n",
    "\n",
    "\n",
    "def inside_polygons3(polygon,n_polygons,ratio_z_x=0.1):\n",
    "    results = []\n",
    "    rng = np.random.default_rng()\n",
    "    polygon = Polygon(hull.points[hull.vertices])\n",
    "    lines = list(map(LineString,hull.points[hull.simplices]))\n",
    "    while len(results)<n_polygons:\n",
    "        hull_tmp = random_polygon(n_vertices)\n",
    "        polygon_tmp = Polygon(hull_tmp.points[hull_tmp.vertices])\n",
    "        points_tmp = list(map(Point,hull_tmp.points[hull_tmp.vertices]))\n",
    "        if not polygon_tmp.within(polygon):\n",
    "            continue # polygon tmp en dehors du polygone\n",
    "        skip = False\n",
    "        for l,p in itertools.product(lines,points_tmp):\n",
    "            if l.contains(p):\n",
    "                skip = True\n",
    "                break # un des noeuds de polygon tmp sur le d'un autre \n",
    "        for (hull_to_test,poly_to_test),p in itertools.product(results,points_tmp):\n",
    "            if poly_to_test.intersects(polygon_tmp):\n",
    "                skip = True\n",
    "                break   # un des noeuds de polygon tmp dans un poly déjà là\n",
    "        if not skip:\n",
    "            results.append((hull_tmp,polygon_tmp))\n",
    "    return list(map(operator.itemgetter(0),results))"
   ]
  },
  {
   "cell_type": "code",
   "execution_count": 198,
   "id": "5aced518",
   "metadata": {},
   "outputs": [
    {
     "data": {
      "image/png": "[encoded data removed]",
      "text/plain": [
       "<Figure size 432x288 with 1 Axes>"
      ]
     },
     "metadata": {
      "needs_background": "light"
     },
     "output_type": "display_data"
    }
   ],
   "source": [
    "ax = plot_hull(hull)\n",
    "hs = inside_polygons(hull,4)"
   ]
  },
  {
   "cell_type": "code",
   "execution_count": 199,
   "id": "bd6eefee",
   "metadata": {},
   "outputs": [
    {
     "data": {
      "image/png": "[encoded data removed]",
      "text/plain": [
       "<Figure size 432x288 with 1 Axes>"
      ]
     },
     "metadata": {
      "needs_background": "light"
     },
     "output_type": "display_data"
    }
   ],
   "source": [
    "plt.figure()\n",
    "ax = plot_hull(hull)\n",
    "for h in hs:\n",
    "    plot_hull(h,ax=ax)"
   ]
  },
  {
   "cell_type": "code",
   "execution_count": 200,
   "id": "f2110f9e",
   "metadata": {},
   "outputs": [],
   "source": [
    "points = inside_points(hull,15,hs)"
   ]
  },
  {
   "cell_type": "code",
   "execution_count": 201,
   "id": "532ed1f6",
   "metadata": {},
   "outputs": [
    {
     "data": {
      "text/plain": [
       "<matplotlib.collections.PathCollection at 0x7fec282d2f70>"
      ]
     },
     "execution_count": 201,
     "metadata": {},
     "output_type": "execute_result"
    },
    {
     "data": {
      "image/png": "[encoded data removed]",
      "text/plain": [
       "<Figure size 432x288 with 1 Axes>"
      ]
     },
     "metadata": {
      "needs_background": "light"
     },
     "output_type": "display_data"
    }
   ],
   "source": [
    "plt.figure()\n",
    "ax = plot_hull(hull)\n",
    "for h in hs:\n",
    "    plot_hull(h,ax=ax)\n",
    "ax.scatter(points[:,0],points[:,1],c=\"k\",marker=\"x\")"
   ]
  },
  {
   "cell_type": "code",
   "execution_count": 188,
   "id": "cb041c7d",
   "metadata": {},
   "outputs": [],
   "source": [
    "points_forces = inside_points(hull,10,hs)"
   ]
  },
  {
   "cell_type": "code",
   "execution_count": 190,
   "id": "cc1322d7",
   "metadata": {},
   "outputs": [
    {
     "data": {
      "text/plain": [
       "<matplotlib.collections.PathCollection at 0x7fec28638e20>"
      ]
     },
     "execution_count": 190,
     "metadata": {},
     "output_type": "execute_result"
    },
    {
     "data": {
      "image/png": "[encoded data removed]",
      "text/plain": [
       "<Figure size 432x288 with 1 Axes>"
      ]
     },
     "metadata": {
      "needs_background": "light"
     },
     "output_type": "display_data"
    }
   ],
   "source": [
    "plt.figure()\n",
    "ax = plot_hull(hull)\n",
    "for h in hs:\n",
    "    plot_hull(h,ax=ax)\n",
    "ax.scatter(points[:,0],points[:,1],c=\"k\",marker=\"x\")\n",
    "ax.scatter(points_forces[:,0],points_forces[:,1],c=\"b\",marker=\"o\")"
   ]
  },
  {
   "cell_type": "code",
   "execution_count": 129,
   "id": "4272f249",
   "metadata": {},
   "outputs": [],
   "source": [
    "from pathlib import Path\n",
    "dest = Path(\"/mnt/c/users/maxime.conti/Desktop/test_project\")"
   ]
  },
  {
   "cell_type": "code",
   "execution_count": 460,
   "id": "f786fbdf",
   "metadata": {},
   "outputs": [],
   "source": [
    "def filtre_noeuds(noeuds,tremies):\n",
    "    result = noeuds.copy()\n",
    "    for tr in tremies:\n",
    "\n",
    "        a = np.full((result.shape[0],),True)\n",
    "        for coord in range(2):\n",
    "            a = np.vstack((a,result[:,coord]<=tr[coord+4],result[:,coord]>=tr[coord]))\n",
    "        result = result[np.logical_not(a.all(axis=0))]\n",
    "    return result"
   ]
  },
  {
   "cell_type": "markdown",
   "id": "72c28462",
   "metadata": {},
   "source": [
    "# DATA"
   ]
  },
  {
   "cell_type": "code",
   "execution_count": 26,
   "id": "674b396f",
   "metadata": {},
   "outputs": [
    {
     "name": "stdout",
     "output_type": "stream",
     "text": [
      "[2 2]\n",
      "[2 2]\n",
      "[2 2]\n",
      "[2 2]\n",
      "[2 2]\n",
      "[2 2]\n",
      "[2 2]\n",
      "[2 2]\n",
      "[2 2]\n",
      "[2 2]\n"
     ]
    },
    {
     "data": {
      "text/plain": [
       "array([[1],\n",
       "       [1],\n",
       "       [1],\n",
       "       [1],\n",
       "       [1],\n",
       "       [1],\n",
       "       [1],\n",
       "       [1],\n",
       "       [1],\n",
       "       [1]])"
      ]
     },
     "execution_count": 26,
     "metadata": {},
     "output_type": "execute_result"
    }
   ],
   "source": [
    "test = np.full((10,2),1)\n",
    "for t in testt:\n",
    "    print(t[0:]+t[0:])\n",
    "test[:,0:1]"
   ]
  },
  {
   "cell_type": "code",
   "execution_count": 27,
   "id": "991c6060",
   "metadata": {},
   "outputs": [
    {
     "ename": "NameError",
     "evalue": "name 'filtre_noeuds' is not defined",
     "output_type": "error",
     "traceback": [
      "\u001b[0;31m---------------------------------------------------------------------------\u001b[0m",
      "\u001b[0;31mNameError\u001b[0m                                 Traceback (most recent call last)",
      "Input \u001b[0;32mIn [27]\u001b[0m, in \u001b[0;36m<module>\u001b[0;34m\u001b[0m\n\u001b[1;32m     43\u001b[0m     tremies \u001b[38;5;241m=\u001b[39m np\u001b[38;5;241m.\u001b[39mhstack((tremies,end))\n\u001b[1;32m     46\u001b[0m \u001b[38;5;66;03m# SORT LES POINTS HORS TREMIES\u001b[39;00m\n\u001b[0;32m---> 47\u001b[0m appuis_ponctuels \u001b[38;5;241m=\u001b[39m \u001b[43mfiltre_noeuds\u001b[49m(appuis_ponctuels,tremies)\n",
      "\u001b[0;31mNameError\u001b[0m: name 'filtre_noeuds' is not defined"
     ]
    }
   ],
   "source": [
    "dim_x = 10\n",
    "dim_z = 10\n",
    "\n",
    "\n",
    "\n",
    "# APPUIS PONCTUELS\n",
    "# TODO A GENERERER ALEATOIREMENT\n",
    "appuis_ponctuels = np.array(\n",
    "[\n",
    "        [1.1,1.1],\n",
    "        [0.5,0.5],\n",
    "        [2,5],\n",
    "        [8,3],\n",
    "        [8,8]\n",
    "])\n",
    "\n",
    "\n",
    "# TREMIES EVENTUELLES\n",
    "# TODO A GENERERER ALEATOIREMENT\n",
    "tremies = np.array(\n",
    "[\n",
    "    [1,0.9,2,2],\n",
    "    [8,8,0.5,0.5],\n",
    "    \n",
    "])\n",
    "# tremies = np.array([])\n",
    "\n",
    "# MATERIAUX\n",
    "mo = 11e6\n",
    "nu = 0\n",
    "ep = 0.1\n",
    "\n",
    "\n",
    "# MAILLAGE\n",
    "if tremies.shape[0]:\n",
    "    tm = tremies[:,0:2].min()/3\n",
    "else:\n",
    "    tm = min(dim_x/20,dim_z/20)\n",
    "\n",
    "# CALCUL LES EXTREMITES DES TREMIES\n",
    "if tremies.shape[0]:\n",
    "    end = np.vstack((tremies[:,0] + tremies[:,2],tremies[:,1] + tremies[:,3])).transpose()\n",
    "    tremies = np.hstack((tremies,end))\n",
    "\n",
    "    \n",
    "# SORT LES POINTS HORS TREMIES\n",
    "appuis_ponctuels = filtre_noeuds(appuis_ponctuels,tremies)"
   ]
  },
  {
   "cell_type": "code",
   "execution_count": 479,
   "id": "21af27b4",
   "metadata": {},
   "outputs": [
    {
     "data": {
      "text/plain": [
       "array([[9.87058535, 1.27562086],\n",
       "       [0.50636817, 5.14324175],\n",
       "       [4.97067996, 5.58249555],\n",
       "       [7.28014334, 6.12617721],\n",
       "       [2.9572292 , 2.95595669],\n",
       "       [6.45890538, 7.54727576],\n",
       "       [4.04405867, 4.8969322 ],\n",
       "       [6.26437682, 4.6450653 ],\n",
       "       [1.81629033, 7.5767612 ],\n",
       "       [6.77831448, 1.88347855],\n",
       "       [5.88836265, 5.98040211],\n",
       "       [4.88679329, 7.27199988],\n",
       "       [1.35810771, 8.2584352 ],\n",
       "       [6.95293388, 4.72683144],\n",
       "       [6.90378028, 3.8146867 ]])"
      ]
     },
     "execution_count": 479,
     "metadata": {},
     "output_type": "execute_result"
    }
   ],
   "source": [
    "# TIRAGE FORCES PONCTUELLES\n",
    "n_forces = np.random.randint(20)\n",
    "forces_ponctuelles =np.random.rand(n_forces,2)\n",
    "forces_ponctuelles[:,0] = forces_ponctuelles[:,0]*dim_x\n",
    "forces_ponctuelles[:,1] = forces_ponctuelles[:,1]*dim_z\n",
    "forces_ponctuelles = filtre_noeuds(forces_ponctuelles,tremies)\n",
    "forces_ponctuelles"
   ]
  },
  {
   "cell_type": "markdown",
   "id": "bf3a14d6",
   "metadata": {},
   "source": [
    "# DDON"
   ]
  },
  {
   "cell_type": "code",
   "execution_count": 480,
   "id": "11b3081b",
   "metadata": {},
   "outputs": [],
   "source": [
    "no = 100"
   ]
  },
  {
   "cell_type": "code",
   "execution_count": 481,
   "id": "9b085d15",
   "metadata": {},
   "outputs": [],
   "source": [
    "def cf(no,x_,z_,dim_x,dim_z,td=None):\n",
    "    no_end = no+400\n",
    "    s_no = ' '.join(map(str,np.arange(no,no_end,100)))\n",
    "    s_td = \"\"\n",
    "    if td is not None:\n",
    "        s_td = f\"TD {td}\"\n",
    "    s = f\"\"\"\\\n",
    "NO {s_no} XX {x_} {x_+dim_x} {x_+dim_x} {x_} ZZ {z_} {z_} {z_+dim_z} {z_+dim_z} YY 0\n",
    "CF {no} NO {s_no} {s_td}\n",
    "\"\"\"\n",
    "    return no_end+100,s   \n"
   ]
  },
  {
   "cell_type": "code",
   "execution_count": 482,
   "id": "22815aa9",
   "metadata": {},
   "outputs": [],
   "source": [
    "s=f\"\"\"\\\n",
    "** GEO TM {tm}\n",
    "TD 1 EP {ep} MO {mo} NU {nu}\n",
    "\"\"\""
   ]
  },
  {
   "cell_type": "code",
   "execution_count": 483,
   "id": "7587f892",
   "metadata": {},
   "outputs": [],
   "source": [
    "# CONTOUR EXTERIEUR\n",
    "no_cf_ext = no\n",
    "no,adds = cf(no,0,0,dim_x,dim_z)\n",
    "s += adds"
   ]
  },
  {
   "cell_type": "code",
   "execution_count": 484,
   "id": "adf384c8",
   "metadata": {},
   "outputs": [],
   "source": [
    "# CONTOURS INTERIEURS\n",
    "no_cf_ints = []\n",
    "for x_,z_,dimx_,dimz_,*rest in tremies:\n",
    "    no_cf_ints.append(no)\n",
    "    no,adds = cf(no,x_,z_,dimx_,dimz_)\n",
    "    s += adds"
   ]
  },
  {
   "cell_type": "code",
   "execution_count": 485,
   "id": "1a4ce181",
   "metadata": {},
   "outputs": [],
   "source": [
    "# NO APPUIS\n",
    "no_end = no + appuis_ponctuels.shape[0]*100\n",
    "no_app_int = np.arange(no,no_end,100)\n",
    "no = no_end\n",
    "s_no_app_int = \" \".join(map(str,no_app_int))\n",
    "s_x = \",\".join(map(str,appuis_ponctuels[:,0]))\n",
    "s_z = \",\".join(map(str,appuis_ponctuels[:,1]))\n",
    "s+=f\"\"\"NO {s_no_app_int} XX {s_x} ZZ {s_z} YY 0\n",
    "\"\"\""
   ]
  },
  {
   "cell_type": "code",
   "execution_count": 486,
   "id": "0a98819f",
   "metadata": {},
   "outputs": [],
   "source": [
    "# SURFACE\n",
    "s += f\"\"\"\\\n",
    "SU {no_cf_ext} PL CF {no_cf_ext} {' '.join(map(str,no_cf_ints))} IN {s_no_app_int} TD 1\n",
    "\"\"\""
   ]
  },
  {
   "cell_type": "code",
   "execution_count": 487,
   "id": "5244edb6",
   "metadata": {},
   "outputs": [],
   "source": [
    "# APPUIS\n",
    "s+=f\"\"\"\n",
    "** ZONE\n",
    "NO {s_no_app_int} APP01\n",
    "\n",
    "** APPUIS\n",
    "NO {s_no_app_int} YY 1e10 XX 1e-3 ZZ 1e-3\n",
    "\"\"\""
   ]
  },
  {
   "cell_type": "code",
   "execution_count": 488,
   "id": "10b31040",
   "metadata": {},
   "outputs": [],
   "source": [
    "s+=\"\\n**FIN\""
   ]
  },
  {
   "cell_type": "code",
   "execution_count": 489,
   "id": "4d5c0f99",
   "metadata": {},
   "outputs": [],
   "source": [
    "with open(dest / \"DDON\",\"w\") as f:\n",
    "    f.write(s)"
   ]
  },
  {
   "cell_type": "markdown",
   "id": "4449f53a",
   "metadata": {},
   "source": [
    "# DLOAD"
   ]
  },
  {
   "cell_type": "code",
   "execution_count": 490,
   "id": "1c3a967e",
   "metadata": {},
   "outputs": [],
   "source": [
    "s_force = \" \".join(map(str,no_app_int))\n",
    "s_f_x = \",\".join(map(str,forces_ponctuelles[:,0]))\n",
    "s_f_y = \",\".join(map(str,forces_ponctuelles[:,1]))"
   ]
  },
  {
   "cell_type": "code",
   "execution_count": 491,
   "id": "110520ec",
   "metadata": {},
   "outputs": [],
   "source": [
    "s =f\"\"\"\n",
    "** APP DG\n",
    "** ACT TO\n",
    "** CAS FIC 100\n",
    "LIB PO XX {s_f_x} YY {s_f_y} GL FY -10\n",
    "** FIN\"\"\""
   ]
  },
  {
   "cell_type": "code",
   "execution_count": 492,
   "id": "9fb4f37b",
   "metadata": {},
   "outputs": [],
   "source": [
    "with open(dest / \"DLOAD\",\"w\") as f:\n",
    "    f.write(s)"
   ]
  },
  {
   "cell_type": "markdown",
   "id": "ccb74e41",
   "metadata": {},
   "source": [
    "# DLIST"
   ]
  },
  {
   "cell_type": "code",
   "execution_count": 493,
   "id": "324d7f10",
   "metadata": {},
   "outputs": [],
   "source": [
    "s = \"\"\"\\\n",
    "** IMP FIC 100\n",
    "RA\n",
    "** FIN\"\"\""
   ]
  },
  {
   "cell_type": "code",
   "execution_count": 494,
   "id": "2d1abd48",
   "metadata": {},
   "outputs": [],
   "source": [
    "with open(dest / \"DLIST\",\"w\") as f:\n",
    "    f.write(s)"
   ]
  },
  {
   "cell_type": "markdown",
   "id": "bd826caa",
   "metadata": {},
   "source": [
    "## Posttraite"
   ]
  },
  {
   "cell_type": "code",
   "execution_count": 130,
   "id": "22bcea1a",
   "metadata": {},
   "outputs": [
    {
     "data": {
      "text/html": [
       "<div>\n",
       "<style scoped>\n",
       "    .dataframe tbody tr th:only-of-type {\n",
       "        vertical-align: middle;\n",
       "    }\n",
       "\n",
       "    .dataframe tbody tr th {\n",
       "        vertical-align: top;\n",
       "    }\n",
       "\n",
       "    .dataframe thead th {\n",
       "        text-align: right;\n",
       "    }\n",
       "</style>\n",
       "<table border=\"1\" class=\"dataframe\">\n",
       "  <thead>\n",
       "    <tr style=\"text-align: right;\">\n",
       "      <th></th>\n",
       "      <th>NO</th>\n",
       "      <th>RX</th>\n",
       "      <th>RY</th>\n",
       "      <th>RZ</th>\n",
       "      <th>CX</th>\n",
       "      <th>CY</th>\n",
       "      <th>CZ</th>\n",
       "    </tr>\n",
       "  </thead>\n",
       "  <tbody>\n",
       "    <tr>\n",
       "      <th>0</th>\n",
       "      <td>2100</td>\n",
       "      <td>0.0</td>\n",
       "      <td>9.367</td>\n",
       "      <td>0.0</td>\n",
       "      <td>0.0</td>\n",
       "      <td>0.0</td>\n",
       "      <td>0.0</td>\n",
       "    </tr>\n",
       "    <tr>\n",
       "      <th>1</th>\n",
       "      <td>2200</td>\n",
       "      <td>0.0</td>\n",
       "      <td>-1.674</td>\n",
       "      <td>0.0</td>\n",
       "      <td>0.0</td>\n",
       "      <td>0.0</td>\n",
       "      <td>0.0</td>\n",
       "    </tr>\n",
       "    <tr>\n",
       "      <th>2</th>\n",
       "      <td>2300</td>\n",
       "      <td>0.0</td>\n",
       "      <td>32.307</td>\n",
       "      <td>0.0</td>\n",
       "      <td>0.0</td>\n",
       "      <td>0.0</td>\n",
       "      <td>0.0</td>\n",
       "    </tr>\n",
       "  </tbody>\n",
       "</table>\n",
       "</div>"
      ],
      "text/plain": [
       "     NO   RX      RY   RZ   CX   CY   CZ\n",
       "0  2100  0.0   9.367  0.0  0.0  0.0  0.0\n",
       "1  2200  0.0  -1.674  0.0  0.0  0.0  0.0\n",
       "2  2300  0.0  32.307  0.0  0.0  0.0  0.0"
      ]
     },
     "execution_count": 130,
     "metadata": {},
     "output_type": "execute_result"
    }
   ],
   "source": [
    "import pandas as pd\n",
    "df = pd.read_csv(dest / \"OUTPUT\" / \"slist.csv\",sep=\";\",skiprows=5).sort_values(by=\"NO\")\n",
    "df"
   ]
  },
  {
   "cell_type": "code",
   "execution_count": 132,
   "id": "02a29d3f",
   "metadata": {},
   "outputs": [
    {
     "data": {
      "text/plain": [
       "array([ 9.367, -1.674, 32.307])"
      ]
     },
     "execution_count": 132,
     "metadata": {},
     "output_type": "execute_result"
    }
   ],
   "source": [
    "df.RY.values"
   ]
  },
  {
   "cell_type": "code",
   "execution_count": 133,
   "id": "7736fe63",
   "metadata": {},
   "outputs": [
    {
     "data": {
      "text/plain": [
       "<__main__.Geometrie at 0x7fb1ea0b2f40>"
      ]
     },
     "execution_count": 133,
     "metadata": {},
     "output_type": "execute_result"
    }
   ],
   "source": [
    "geom"
   ]
  },
  {
   "cell_type": "code",
   "execution_count": 160,
   "id": "05e0b95b",
   "metadata": {},
   "outputs": [],
   "source": [
    "coords = geom.main_polygon.exterior.coords"
   ]
  },
  {
   "cell_type": "code",
   "execution_count": 144,
   "id": "c63087a4",
   "metadata": {},
   "outputs": [
    {
     "data": {
      "image/svg+xml": [
       "<svg xmlns=\"http://www.w3.org/2000/svg\" xmlns:xlink=\"http://www.w3.org/1999/xlink\" width=\"100.0\" height=\"100.0\" viewBox=\"-0.07742014250835272 -0.09823926035463826 2.0 2.0\" preserveAspectRatio=\"xMinYMin meet\"><g transform=\"matrix(1,0,0,-1,0,1.8035214792907235)\"><circle cx=\"0.9225798574916473\" cy=\"0.9017607396453617\" r=\"0.06\" stroke=\"#555555\" stroke-width=\"0.02\" fill=\"#66cc99\" opacity=\"0.6\" /></g></svg>"
      ],
      "text/plain": [
       "<shapely.geometry.point.Point at 0x7fb1e9f71b80>"
      ]
     },
     "execution_count": 144,
     "metadata": {},
     "output_type": "execute_result"
    }
   ],
   "source": [
    "Point(coords[3])"
   ]
  },
  {
   "cell_type": "code",
   "execution_count": 162,
   "id": "278aa4fc",
   "metadata": {},
   "outputs": [],
   "source": [
    "i=3\n",
    "l=LineString((Point(coords[i]),Point(coords[i+1])))"
   ]
  },
  {
   "cell_type": "code",
   "execution_count": 170,
   "id": "33270f11",
   "metadata": {},
   "outputs": [],
   "source": [
    "vect = (np.array(l.coords[1])-np.array(l.coords[0]))/l.length"
   ]
  },
  {
   "cell_type": "code",
   "execution_count": 168,
   "id": "2c6baae9",
   "metadata": {},
   "outputs": [],
   "source": [
    "step = l.length/(n-1)"
   ]
  },
  {
   "cell_type": "code",
   "execution_count": 175,
   "id": "aba8a280",
   "metadata": {},
   "outputs": [
    {
     "data": {
      "text/plain": [
       "[0.8334518526488687, 0.9078035191810869]"
      ]
     },
     "execution_count": 175,
     "metadata": {},
     "output_type": "execute_result"
    }
   ],
   "source": [
    "point_=Point(np.array(point_.coords[0])+step*vect)\n",
    "list(point_.coords[0])"
   ]
  },
  {
   "cell_type": "code",
   "execution_count": null,
   "id": "e5c95bac",
   "metadata": {},
   "outputs": [],
   "source": []
  }
 ],
 "metadata": {
  "kernelspec": {
   "display_name": "Python 3 (ipykernel)",
   "language": "python",
   "name": "python3"
  },
  "language_info": {
   "codemirror_mode": {
    "name": "ipython",
    "version": 3
   },
   "file_extension": ".py",
   "mimetype": "text/x-python",
   "name": "python",
   "nbconvert_exporter": "python",
   "pygments_lexer": "ipython3",
   "version": "3.8.12"
  },
  "toc": {
   "base_numbering": 1,
   "nav_menu": {},
   "number_sections": true,
   "sideBar": true,
   "skip_h1_title": false,
   "title_cell": "Table of Contents",
   "title_sidebar": "Contents",
   "toc_cell": false,
   "toc_position": {},
   "toc_section_display": true,
   "toc_window_display": false
  }
 },
 "nbformat": 4,
 "nbformat_minor": 5
}
